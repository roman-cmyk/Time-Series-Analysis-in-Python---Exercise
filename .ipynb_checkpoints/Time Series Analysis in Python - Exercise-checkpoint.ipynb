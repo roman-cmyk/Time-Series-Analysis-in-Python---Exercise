{
 "cells": [
  {
   "cell_type": "markdown",
   "metadata": {},
   "source": [
    "<strong><b><font size=\"5\">Time Series Analysis and Forecasting in Python</font></b></strong>"
   ]
  },
  {
   "cell_type": "markdown",
   "metadata": {},
   "source": [
    "<h1>Table of Contents<span class=\"tocSkip\"></span></h1>\n",
    "<div class=\"toc\"><ul class=\"toc-item\"><li><span><a href=\"#Time-Series\" data-toc-modified-id=\"Time-Series-1\"><span class=\"toc-item-num\">1&nbsp;&nbsp;</span>Time Series</a></span></li><li><span><a href=\"#Business-use-cases-of-time-series-forecasting\" data-toc-modified-id=\"Business-use-cases-of-time-series-forecasting-2\"><span class=\"toc-item-num\">2&nbsp;&nbsp;</span>Business use cases of time series forecasting</a></span></li><li><span><a href=\"#Importing-Libraries-for-time-series-forecasting\" data-toc-modified-id=\"Importing-Libraries-for-time-series-forecasting-3\"><span class=\"toc-item-num\">3&nbsp;&nbsp;</span>Importing Libraries for time series forecasting</a></span></li><li><span><a href=\"#Importing-data\" data-toc-modified-id=\"Importing-data-4\"><span class=\"toc-item-num\">4&nbsp;&nbsp;</span>Importing data</a></span></li><li><span><a href=\"#Data-Preprocessing-and-Visualization\" data-toc-modified-id=\"Data-Preprocessing-and-Visualization-5\"><span class=\"toc-item-num\">5&nbsp;&nbsp;</span>Data Preprocessing and Visualization</a></span><ul class=\"toc-item\"><li><span><a href=\"#Stationarity\" data-toc-modified-id=\"Stationarity-5.1\"><span class=\"toc-item-num\">5.1&nbsp;&nbsp;</span>Stationarity</a></span><ul class=\"toc-item\"><li><span><a href=\"#ACF-and-PACF-plots\" data-toc-modified-id=\"ACF-and-PACF-plots-5.1.1\"><span class=\"toc-item-num\">5.1.1&nbsp;&nbsp;</span>ACF and PACF plots</a></span></li><li><span><a href=\"#Plotting-Rolling-Statistics\" data-toc-modified-id=\"Plotting-Rolling-Statistics-5.1.2\"><span class=\"toc-item-num\">5.1.2&nbsp;&nbsp;</span>Plotting Rolling Statistics</a></span></li><li><span><a href=\"#Augmented-Dickey-Fuller-Test\" data-toc-modified-id=\"Augmented-Dickey-Fuller-Test-5.1.3\"><span class=\"toc-item-num\">5.1.3&nbsp;&nbsp;</span>Augmented Dickey-Fuller Test</a></span></li></ul></li><li><span><a href=\"#Making-Time-Series-Stationary\" data-toc-modified-id=\"Making-Time-Series-Stationary-5.2\"><span class=\"toc-item-num\">5.2&nbsp;&nbsp;</span>Making Time Series Stationary</a></span><ul class=\"toc-item\"><li><span><a href=\"#Transformations\" data-toc-modified-id=\"Transformations-5.2.1\"><span class=\"toc-item-num\">5.2.1&nbsp;&nbsp;</span>Transformations</a></span><ul class=\"toc-item\"><li><span><a href=\"#Log-Scale-Transformation\" data-toc-modified-id=\"Log-Scale-Transformation-5.2.1.1\"><span class=\"toc-item-num\">5.2.1.1&nbsp;&nbsp;</span>Log Scale Transformation</a></span></li><li><span><a href=\"#Other-possible-transformations:\" data-toc-modified-id=\"Other-possible-transformations:-5.2.1.2\"><span class=\"toc-item-num\">5.2.1.2&nbsp;&nbsp;</span>Other possible transformations:</a></span></li></ul></li><li><span><a href=\"#Techniques-to-remove-Trend---Smoothing\" data-toc-modified-id=\"Techniques-to-remove-Trend---Smoothing-5.2.2\"><span class=\"toc-item-num\">5.2.2&nbsp;&nbsp;</span>Techniques to remove Trend - Smoothing</a></span><ul class=\"toc-item\"><li><span><a href=\"#Moving-Average\" data-toc-modified-id=\"Moving-Average-5.2.2.1\"><span class=\"toc-item-num\">5.2.2.1&nbsp;&nbsp;</span>Moving Average</a></span></li><li><span><a href=\"#Exponentially-weighted-moving-average:\" data-toc-modified-id=\"Exponentially-weighted-moving-average:-5.2.2.2\"><span class=\"toc-item-num\">5.2.2.2&nbsp;&nbsp;</span>Exponentially weighted moving average:</a></span></li></ul></li><li><span><a href=\"#Further-Techniques-to-remove-Seasonality-and-Trend\" data-toc-modified-id=\"Further-Techniques-to-remove-Seasonality-and-Trend-5.2.3\"><span class=\"toc-item-num\">5.2.3&nbsp;&nbsp;</span>Further Techniques to remove Seasonality and Trend</a></span><ul class=\"toc-item\"><li><span><a href=\"#Differencing\" data-toc-modified-id=\"Differencing-5.2.3.1\"><span class=\"toc-item-num\">5.2.3.1&nbsp;&nbsp;</span>Differencing</a></span></li><li><span><a href=\"#Decomposition\" data-toc-modified-id=\"Decomposition-5.2.3.2\"><span class=\"toc-item-num\">5.2.3.2&nbsp;&nbsp;</span>Decomposition</a></span></li></ul></li></ul></li></ul></li><li><span><a href=\"#Time-Series-forecasting\" data-toc-modified-id=\"Time-Series-forecasting-6\"><span class=\"toc-item-num\">6&nbsp;&nbsp;</span>Time Series forecasting</a></span><ul class=\"toc-item\"><li><span><a href=\"#Autoregression-(AR)\" data-toc-modified-id=\"Autoregression-(AR)-6.1\"><span class=\"toc-item-num\">6.1&nbsp;&nbsp;</span>Autoregression (AR)</a></span><ul class=\"toc-item\"><li><span><a href=\"#Reversing-the-transformations\" data-toc-modified-id=\"Reversing-the-transformations-6.1.1\"><span class=\"toc-item-num\">6.1.1&nbsp;&nbsp;</span>Reversing the transformations</a></span></li><li><span><a href=\"#Forecast-quality-scoring-metrics\" data-toc-modified-id=\"Forecast-quality-scoring-metrics-6.1.2\"><span class=\"toc-item-num\">6.1.2&nbsp;&nbsp;</span>Forecast quality scoring metrics</a></span></li></ul></li><li><span><a href=\"#Moving-Average-(MA)\" data-toc-modified-id=\"Moving-Average-(MA)-6.2\"><span class=\"toc-item-num\">6.2&nbsp;&nbsp;</span>Moving Average (MA)</a></span></li><li><span><a href=\"#Autoregressive-Moving-Average-(ARMA)\" data-toc-modified-id=\"Autoregressive-Moving-Average-(ARMA)-6.3\"><span class=\"toc-item-num\">6.3&nbsp;&nbsp;</span>Autoregressive Moving Average (ARMA)</a></span></li><li><span><a href=\"#Autoregressive-Integrated-Moving-Average-(ARIMA)\" data-toc-modified-id=\"Autoregressive-Integrated-Moving-Average-(ARIMA)-6.4\"><span class=\"toc-item-num\">6.4&nbsp;&nbsp;</span>Autoregressive Integrated Moving Average (ARIMA)</a></span></li><li><span><a href=\"#Interpreting-ACF-plots\" data-toc-modified-id=\"Interpreting-ACF-plots-6.5\"><span class=\"toc-item-num\">6.5&nbsp;&nbsp;</span>Interpreting ACF plots</a></span><ul class=\"toc-item\"><li><span><a href=\"#Auto-ARIMA\" data-toc-modified-id=\"Auto-ARIMA-6.5.1\"><span class=\"toc-item-num\">6.5.1&nbsp;&nbsp;</span>Auto ARIMA</a></span></li></ul></li><li><span><a href=\"#Seasonal-Autoregressive-Integrated-Moving-Average-(SARIMA)\" data-toc-modified-id=\"Seasonal-Autoregressive-Integrated-Moving-Average-(SARIMA)-6.6\"><span class=\"toc-item-num\">6.6&nbsp;&nbsp;</span>Seasonal Autoregressive Integrated Moving-Average (SARIMA)</a></span><ul class=\"toc-item\"><li><span><a href=\"#Auto---SARIMA\" data-toc-modified-id=\"Auto---SARIMA-6.6.1\"><span class=\"toc-item-num\">6.6.1&nbsp;&nbsp;</span>Auto - SARIMA</a></span></li><li><span><a href=\"#Tuned-SARIMA\" data-toc-modified-id=\"Tuned-SARIMA-6.6.2\"><span class=\"toc-item-num\">6.6.2&nbsp;&nbsp;</span>Tuned SARIMA</a></span></li></ul></li><li><span><a href=\"#SARIMAX\" data-toc-modified-id=\"SARIMAX-6.7\"><span class=\"toc-item-num\">6.7&nbsp;&nbsp;</span>SARIMAX</a></span></li><li><span><a href=\"#Prophet\" data-toc-modified-id=\"Prophet-6.8\"><span class=\"toc-item-num\">6.8&nbsp;&nbsp;</span>Prophet</a></span></li><li><span><a href=\"#Improving-Time-Series-Forecast-models\" data-toc-modified-id=\"Improving-Time-Series-Forecast-models-6.9\"><span class=\"toc-item-num\">6.9&nbsp;&nbsp;</span>Improving Time Series Forecast models</a></span></li><li><span><a href=\"#Solve-a-problem!\" data-toc-modified-id=\"Solve-a-problem!-6.10\"><span class=\"toc-item-num\">6.10&nbsp;&nbsp;</span>Solve a problem!</a></span></li></ul></li></ul></div>"
   ]
  },
  {
   "cell_type": "markdown",
   "metadata": {},
   "source": [
    "# Time Series\n",
    "- A time series is a sequential set of data points, measured typically over successive times. \n",
    "- It is mathematically defined as a set of vectors x(t), t = 0,1,2,... where t represents the time elapsed. \n",
    "- The variable x(t) is treated as a random variable. \n",
    "- The measurements taken during an event in a time series are arranged in a proper chronological order. \n",
    "- A time series containing records of a single variable is termed as univariate, and more than one variable a multivariate. "
   ]
  },
  {
   "cell_type": "markdown",
   "metadata": {},
   "source": [
    "# Business use cases of time series forecasting\n",
    "- __Sales forecast - retail products sales forecast__\n",
    "- __Demand forecasting - used in pricing, inventory and workforce management__\n",
    "- __Traffic forecast - transport and route optimization, road facility design__\n",
    "- __Revenue forecast - budgeting, target setting__"
   ]
  },
  {
   "cell_type": "markdown",
   "metadata": {},
   "source": [
    "# Importing Libraries for time series forecasting"
   ]
  },
  {
   "cell_type": "code",
   "execution_count": 1,
   "metadata": {},
   "outputs": [
    {
     "ename": "ModuleNotFoundError",
     "evalue": "No module named 'pyramid.arima'",
     "output_type": "error",
     "traceback": [
      "\u001b[1;31m---------------------------------------------------------------------------\u001b[0m",
      "\u001b[1;31mModuleNotFoundError\u001b[0m                       Traceback (most recent call last)",
      "\u001b[1;32m<ipython-input-1-9b6c64eaf90b>\u001b[0m in \u001b[0;36m<module>\u001b[1;34m\u001b[0m\n\u001b[0;32m     18\u001b[0m \u001b[1;32mfrom\u001b[0m \u001b[0mstatsmodels\u001b[0m\u001b[1;33m.\u001b[0m\u001b[0mtsa\u001b[0m\u001b[1;33m.\u001b[0m\u001b[0mar_model\u001b[0m \u001b[1;32mimport\u001b[0m \u001b[0mAR\u001b[0m\u001b[1;33m\u001b[0m\u001b[1;33m\u001b[0m\u001b[0m\n\u001b[0;32m     19\u001b[0m \u001b[1;32mfrom\u001b[0m \u001b[0mstatsmodels\u001b[0m\u001b[1;33m.\u001b[0m\u001b[0mtsa\u001b[0m\u001b[1;33m.\u001b[0m\u001b[0marima_model\u001b[0m \u001b[1;32mimport\u001b[0m \u001b[0mARMA\u001b[0m\u001b[1;33m,\u001b[0m \u001b[0mARIMA\u001b[0m\u001b[1;33m\u001b[0m\u001b[1;33m\u001b[0m\u001b[0m\n\u001b[1;32m---> 20\u001b[1;33m \u001b[1;32mfrom\u001b[0m \u001b[0mpyramid\u001b[0m\u001b[1;33m.\u001b[0m\u001b[0marima\u001b[0m \u001b[1;32mimport\u001b[0m \u001b[0mauto_arima\u001b[0m\u001b[1;33m\u001b[0m\u001b[1;33m\u001b[0m\u001b[0m\n\u001b[0m\u001b[0;32m     21\u001b[0m \u001b[1;32mfrom\u001b[0m \u001b[0mstatsmodels\u001b[0m\u001b[1;33m.\u001b[0m\u001b[0mtsa\u001b[0m\u001b[1;33m.\u001b[0m\u001b[0mstatespace\u001b[0m\u001b[1;33m.\u001b[0m\u001b[0msarimax\u001b[0m \u001b[1;32mimport\u001b[0m \u001b[0mSARIMAX\u001b[0m\u001b[1;33m\u001b[0m\u001b[1;33m\u001b[0m\u001b[0m\n\u001b[0;32m     22\u001b[0m \u001b[1;32mfrom\u001b[0m \u001b[0mfbprophet\u001b[0m \u001b[1;32mimport\u001b[0m \u001b[0mProphet\u001b[0m\u001b[1;33m\u001b[0m\u001b[1;33m\u001b[0m\u001b[0m\n",
      "\u001b[1;31mModuleNotFoundError\u001b[0m: No module named 'pyramid.arima'"
     ]
    }
   ],
   "source": [
    "import warnings\n",
    "import itertools\n",
    "import numpy as np\n",
    "import matplotlib.pyplot as plt\n",
    "warnings.filterwarnings(\"ignore\")\n",
    "plt.style.use('fivethirtyeight')\n",
    "\n",
    "import pandas as pd\n",
    "pd.set_option('display.expand_frame_repr', False)\n",
    "pd.set_option('display.max_columns', 500)\n",
    "pd.set_option('display.width', 1000)\n",
    "\n",
    "import statsmodels.api as sm\n",
    "from statsmodels.graphics.tsaplots import plot_acf\n",
    "from statsmodels.graphics.tsaplots import plot_pacf\n",
    "from statsmodels.tsa.stattools import adfuller\n",
    "from statsmodels.tsa.seasonal import seasonal_decompose\n",
    "from statsmodels.tsa.ar_model import AR\n",
    "from statsmodels.tsa.arima_model import ARMA, ARIMA\n",
    "from pyramid.arima import auto_arima\n",
    "from statsmodels.tsa.statespace.sarimax import SARIMAX\n",
    "from fbprophet import Prophet\n",
    "\n",
    "from math import sqrt\n",
    "\n",
    "import matplotlib\n",
    "matplotlib.rcParams['axes.labelsize'] = 14\n",
    "matplotlib.rcParams['xtick.labelsize'] = 12\n",
    "matplotlib.rcParams['ytick.labelsize'] = 12\n",
    "matplotlib.rcParams['text.color'] = 'k'\n",
    "import seaborn as sns\n",
    "\n",
    "from random import random\n",
    "\n",
    "from sklearn.metrics import mean_squared_error, r2_score, mean_absolute_error, median_absolute_error, mean_squared_log_error"
   ]
  },
  {
   "cell_type": "markdown",
   "metadata": {},
   "source": [
    "# Importing data\n",
    "- Dataset: International airline passengers\n",
    "- Unit: Thousands"
   ]
  },
  {
   "cell_type": "code",
   "execution_count": 3,
   "metadata": {},
   "outputs": [],
   "source": [
    "df = pd.read_csv('international-airline-passengers.csv',header=None)"
   ]
  },
  {
   "cell_type": "code",
   "execution_count": 4,
   "metadata": {},
   "outputs": [],
   "source": [
    "df.columns = ['year','passengers']"
   ]
  },
  {
   "cell_type": "code",
   "execution_count": 5,
   "metadata": {},
   "outputs": [
    {
     "data": {
      "text/html": [
       "<div>\n",
       "<style scoped>\n",
       "    .dataframe tbody tr th:only-of-type {\n",
       "        vertical-align: middle;\n",
       "    }\n",
       "\n",
       "    .dataframe tbody tr th {\n",
       "        vertical-align: top;\n",
       "    }\n",
       "\n",
       "    .dataframe thead th {\n",
       "        text-align: right;\n",
       "    }\n",
       "</style>\n",
       "<table border=\"1\" class=\"dataframe\">\n",
       "  <thead>\n",
       "    <tr style=\"text-align: right;\">\n",
       "      <th></th>\n",
       "      <th>year</th>\n",
       "      <th>passengers</th>\n",
       "    </tr>\n",
       "  </thead>\n",
       "  <tbody>\n",
       "    <tr>\n",
       "      <th>0</th>\n",
       "      <td>1949-01</td>\n",
       "      <td>112</td>\n",
       "    </tr>\n",
       "    <tr>\n",
       "      <th>1</th>\n",
       "      <td>1949-02</td>\n",
       "      <td>118</td>\n",
       "    </tr>\n",
       "    <tr>\n",
       "      <th>2</th>\n",
       "      <td>1949-03</td>\n",
       "      <td>132</td>\n",
       "    </tr>\n",
       "  </tbody>\n",
       "</table>\n",
       "</div>"
      ],
      "text/plain": [
       "      year  passengers\n",
       "0  1949-01         112\n",
       "1  1949-02         118\n",
       "2  1949-03         132"
      ]
     },
     "execution_count": 5,
     "metadata": {},
     "output_type": "execute_result"
    }
   ],
   "source": [
    "df.head(3)"
   ]
  },
  {
   "cell_type": "code",
   "execution_count": 6,
   "metadata": {},
   "outputs": [
    {
     "data": {
      "text/html": [
       "<div>\n",
       "<style scoped>\n",
       "    .dataframe tbody tr th:only-of-type {\n",
       "        vertical-align: middle;\n",
       "    }\n",
       "\n",
       "    .dataframe tbody tr th {\n",
       "        vertical-align: top;\n",
       "    }\n",
       "\n",
       "    .dataframe thead th {\n",
       "        text-align: right;\n",
       "    }\n",
       "</style>\n",
       "<table border=\"1\" class=\"dataframe\">\n",
       "  <thead>\n",
       "    <tr style=\"text-align: right;\">\n",
       "      <th></th>\n",
       "      <th>passengers</th>\n",
       "    </tr>\n",
       "  </thead>\n",
       "  <tbody>\n",
       "    <tr>\n",
       "      <th>count</th>\n",
       "      <td>144.000000</td>\n",
       "    </tr>\n",
       "    <tr>\n",
       "      <th>mean</th>\n",
       "      <td>280.298611</td>\n",
       "    </tr>\n",
       "    <tr>\n",
       "      <th>std</th>\n",
       "      <td>119.966317</td>\n",
       "    </tr>\n",
       "    <tr>\n",
       "      <th>min</th>\n",
       "      <td>104.000000</td>\n",
       "    </tr>\n",
       "    <tr>\n",
       "      <th>25%</th>\n",
       "      <td>180.000000</td>\n",
       "    </tr>\n",
       "    <tr>\n",
       "      <th>50%</th>\n",
       "      <td>265.500000</td>\n",
       "    </tr>\n",
       "    <tr>\n",
       "      <th>75%</th>\n",
       "      <td>360.500000</td>\n",
       "    </tr>\n",
       "    <tr>\n",
       "      <th>max</th>\n",
       "      <td>622.000000</td>\n",
       "    </tr>\n",
       "  </tbody>\n",
       "</table>\n",
       "</div>"
      ],
      "text/plain": [
       "       passengers\n",
       "count  144.000000\n",
       "mean   280.298611\n",
       "std    119.966317\n",
       "min    104.000000\n",
       "25%    180.000000\n",
       "50%    265.500000\n",
       "75%    360.500000\n",
       "max    622.000000"
      ]
     },
     "execution_count": 6,
     "metadata": {},
     "output_type": "execute_result"
    }
   ],
   "source": [
    "df.describe()"
   ]
  },
  {
   "cell_type": "code",
   "execution_count": 7,
   "metadata": {},
   "outputs": [
    {
     "data": {
      "text/html": [
       "<div>\n",
       "<style scoped>\n",
       "    .dataframe tbody tr th:only-of-type {\n",
       "        vertical-align: middle;\n",
       "    }\n",
       "\n",
       "    .dataframe tbody tr th {\n",
       "        vertical-align: top;\n",
       "    }\n",
       "\n",
       "    .dataframe thead th {\n",
       "        text-align: right;\n",
       "    }\n",
       "</style>\n",
       "<table border=\"1\" class=\"dataframe\">\n",
       "  <thead>\n",
       "    <tr style=\"text-align: right;\">\n",
       "      <th></th>\n",
       "      <th>year</th>\n",
       "    </tr>\n",
       "  </thead>\n",
       "  <tbody>\n",
       "    <tr>\n",
       "      <th>count</th>\n",
       "      <td>144</td>\n",
       "    </tr>\n",
       "    <tr>\n",
       "      <th>unique</th>\n",
       "      <td>144</td>\n",
       "    </tr>\n",
       "    <tr>\n",
       "      <th>top</th>\n",
       "      <td>1955-08</td>\n",
       "    </tr>\n",
       "    <tr>\n",
       "      <th>freq</th>\n",
       "      <td>1</td>\n",
       "    </tr>\n",
       "  </tbody>\n",
       "</table>\n",
       "</div>"
      ],
      "text/plain": [
       "           year\n",
       "count       144\n",
       "unique      144\n",
       "top     1955-08\n",
       "freq          1"
      ]
     },
     "execution_count": 7,
     "metadata": {},
     "output_type": "execute_result"
    }
   ],
   "source": [
    "df.describe(include='O')"
   ]
  },
  {
   "cell_type": "code",
   "execution_count": 8,
   "metadata": {},
   "outputs": [
    {
     "name": "stdout",
     "output_type": "stream",
     "text": [
      "Time period start: 1949-01\n",
      "Time period end: 1960-12\n"
     ]
    }
   ],
   "source": [
    "print('Time period start: {}\\nTime period end: {}'.format(df.year.min(),df.year.max()))"
   ]
  },
  {
   "cell_type": "code",
   "execution_count": 9,
   "metadata": {},
   "outputs": [
    {
     "data": {
      "text/plain": [
       "Index(['year', 'passengers'], dtype='object')"
      ]
     },
     "execution_count": 9,
     "metadata": {},
     "output_type": "execute_result"
    }
   ],
   "source": [
    "df.columns"
   ]
  },
  {
   "cell_type": "code",
   "execution_count": 10,
   "metadata": {},
   "outputs": [
    {
     "data": {
      "text/plain": [
       "(144, 2)"
      ]
     },
     "execution_count": 10,
     "metadata": {},
     "output_type": "execute_result"
    }
   ],
   "source": [
    "df.shape"
   ]
  },
  {
   "cell_type": "markdown",
   "metadata": {},
   "source": [
    "# Data Preprocessing and Visualization"
   ]
  },
  {
   "cell_type": "markdown",
   "metadata": {},
   "source": [
    "__Converting to datetime format:__"
   ]
  },
  {
   "cell_type": "code",
   "execution_count": 12,
   "metadata": {},
   "outputs": [
    {
     "data": {
      "text/plain": [
       "0     1949-01-01\n",
       "1     1949-02-01\n",
       "2     1949-03-01\n",
       "3     1949-04-01\n",
       "4     1949-05-01\n",
       "         ...    \n",
       "139   1960-08-01\n",
       "140   1960-09-01\n",
       "141   1960-10-01\n",
       "142   1960-11-01\n",
       "143   1960-12-01\n",
       "Name: year, Length: 144, dtype: datetime64[ns]"
      ]
     },
     "execution_count": 12,
     "metadata": {},
     "output_type": "execute_result"
    }
   ],
   "source": [
    "df['year'] = pd.to_datetime(df['year'], format='%Y-%m')\n",
    "df['year']"
   ]
  },
  {
   "cell_type": "markdown",
   "metadata": {},
   "source": [
    "__Setting index as the datetime column for easier manipulations:__"
   ]
  },
  {
   "cell_type": "code",
   "execution_count": 13,
   "metadata": {},
   "outputs": [],
   "source": [
    "y = df.set_index('year')"
   ]
  },
  {
   "cell_type": "code",
   "execution_count": 14,
   "metadata": {},
   "outputs": [
    {
     "data": {
      "text/plain": [
       "DatetimeIndex(['1949-01-01', '1949-02-01', '1949-03-01', '1949-04-01', '1949-05-01', '1949-06-01', '1949-07-01', '1949-08-01', '1949-09-01', '1949-10-01',\n",
       "               ...\n",
       "               '1960-03-01', '1960-04-01', '1960-05-01', '1960-06-01', '1960-07-01', '1960-08-01', '1960-09-01', '1960-10-01', '1960-11-01', '1960-12-01'], dtype='datetime64[ns]', name='year', length=144, freq=None)"
      ]
     },
     "execution_count": 14,
     "metadata": {},
     "output_type": "execute_result"
    }
   ],
   "source": [
    "y.index"
   ]
  },
  {
   "cell_type": "code",
   "execution_count": 16,
   "metadata": {},
   "outputs": [
    {
     "data": {
      "text/plain": [
       "passengers    0\n",
       "dtype: int64"
      ]
     },
     "execution_count": 16,
     "metadata": {},
     "output_type": "execute_result"
    }
   ],
   "source": [
    "y.isnull().sum()"
   ]
  },
  {
   "cell_type": "code",
   "execution_count": 22,
   "metadata": {},
   "outputs": [
    {
     "data": {
      "image/png": "[encoded data removed]",
      "text/plain": [
       "<Figure size 1080x432 with 1 Axes>"
      ]
     },
     "metadata": {
      "needs_background": "light"
     },
     "output_type": "display_data"
    }
   ],
   "source": [
    "import matplotlib.pyplot as plt\n",
    "%matplotlib inline\n",
    "plt.rcParams['figure.figsize'] = (15,6)\n",
    "y.plot()\n",
    "plt.show()"
   ]
  },
  {
   "cell_type": "code",
   "execution_count": null,
   "metadata": {},
   "outputs": [],
   "source": []
  }
 ],
 "metadata": {
  "kernelspec": {
   "display_name": "Python 3",
   "language": "python",
   "name": "python3"
  },
  "language_info": {
   "codemirror_mode": {
    "name": "ipython",
    "version": 3
   },
   "file_extension": ".py",
   "mimetype": "text/x-python",
   "name": "python",
   "nbconvert_exporter": "python",
   "pygments_lexer": "ipython3",
   "version": "3.7.6"
  }
 },
 "nbformat": 4,
 "nbformat_minor": 4
}
